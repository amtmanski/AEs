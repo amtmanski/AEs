{
 "cells": [
  {
   "cell_type": "code",
   "execution_count": 1,
   "metadata": {},
   "outputs": [],
   "source": [
    "import pandas as pd\n",
    "import numpy as np\n",
    "import torch\n",
    "from torch import nn\n",
    "import torch.nn.functional as F\n",
    "from torch.utils.data import TensorDataset, random_split\n",
    "from torchvision import transforms\n",
    "import matplotlib.pyplot as plt\n",
    "from torch.utils.data.dataloader import DataLoader"
   ]
  },
  {
   "cell_type": "code",
   "execution_count": 2,
   "metadata": {},
   "outputs": [],
   "source": [
    "data = pd.read_csv('../../ala2_.csv')"
   ]
  },
  {
   "cell_type": "code",
   "execution_count": 3,
   "metadata": {},
   "outputs": [
    {
     "data": {
      "text/html": [
       "<div>\n",
       "<style scoped>\n",
       "    .dataframe tbody tr th:only-of-type {\n",
       "        vertical-align: middle;\n",
       "    }\n",
       "\n",
       "    .dataframe tbody tr th {\n",
       "        vertical-align: top;\n",
       "    }\n",
       "\n",
       "    .dataframe thead th {\n",
       "        text-align: right;\n",
       "    }\n",
       "</style>\n",
       "<table border=\"1\" class=\"dataframe\">\n",
       "  <thead>\n",
       "    <tr style=\"text-align: right;\">\n",
       "      <th></th>\n",
       "      <th>time</th>\n",
       "      <th>phi</th>\n",
       "      <th>psi</th>\n",
       "      <th>theta</th>\n",
       "      <th>d1</th>\n",
       "      <th>d2</th>\n",
       "      <th>d3</th>\n",
       "      <th>d4</th>\n",
       "      <th>d5</th>\n",
       "      <th>d6</th>\n",
       "      <th>...</th>\n",
       "      <th>d12</th>\n",
       "      <th>d13</th>\n",
       "      <th>d14</th>\n",
       "      <th>d15</th>\n",
       "      <th>d16</th>\n",
       "      <th>d17</th>\n",
       "      <th>d18</th>\n",
       "      <th>d19</th>\n",
       "      <th>d20</th>\n",
       "      <th>d21</th>\n",
       "    </tr>\n",
       "  </thead>\n",
       "  <tbody>\n",
       "    <tr>\n",
       "      <th>0</th>\n",
       "      <td>0.0</td>\n",
       "      <td>1.158887</td>\n",
       "      <td>-0.062493</td>\n",
       "      <td>-0.277660</td>\n",
       "      <td>-2.025618</td>\n",
       "      <td>0.516963</td>\n",
       "      <td>1.492472</td>\n",
       "      <td>-0.950306</td>\n",
       "      <td>-0.774688</td>\n",
       "      <td>-2.048843</td>\n",
       "      <td>...</td>\n",
       "      <td>-0.963034</td>\n",
       "      <td>-0.890409</td>\n",
       "      <td>-0.893454</td>\n",
       "      <td>-0.832867</td>\n",
       "      <td>1.610624</td>\n",
       "      <td>-1.126497</td>\n",
       "      <td>-0.945604</td>\n",
       "      <td>-0.080917</td>\n",
       "      <td>0.514520</td>\n",
       "      <td>0.760415</td>\n",
       "    </tr>\n",
       "    <tr>\n",
       "      <th>1</th>\n",
       "      <td>1.0</td>\n",
       "      <td>1.111219</td>\n",
       "      <td>-0.603696</td>\n",
       "      <td>-0.070774</td>\n",
       "      <td>-0.512036</td>\n",
       "      <td>-0.285359</td>\n",
       "      <td>1.203746</td>\n",
       "      <td>-1.029504</td>\n",
       "      <td>-0.872391</td>\n",
       "      <td>-0.965547</td>\n",
       "      <td>...</td>\n",
       "      <td>-0.751681</td>\n",
       "      <td>0.006084</td>\n",
       "      <td>-0.994078</td>\n",
       "      <td>-0.958668</td>\n",
       "      <td>1.422885</td>\n",
       "      <td>-0.889166</td>\n",
       "      <td>-0.587028</td>\n",
       "      <td>0.328934</td>\n",
       "      <td>-0.156932</td>\n",
       "      <td>-0.063246</td>\n",
       "    </tr>\n",
       "    <tr>\n",
       "      <th>2</th>\n",
       "      <td>2.0</td>\n",
       "      <td>0.728072</td>\n",
       "      <td>-1.035362</td>\n",
       "      <td>0.393789</td>\n",
       "      <td>0.087397</td>\n",
       "      <td>-0.529289</td>\n",
       "      <td>0.746910</td>\n",
       "      <td>-0.824329</td>\n",
       "      <td>-0.874417</td>\n",
       "      <td>-0.644842</td>\n",
       "      <td>...</td>\n",
       "      <td>-1.252801</td>\n",
       "      <td>-0.922105</td>\n",
       "      <td>-1.203875</td>\n",
       "      <td>-1.245052</td>\n",
       "      <td>1.238570</td>\n",
       "      <td>-0.421943</td>\n",
       "      <td>-0.276024</td>\n",
       "      <td>1.256286</td>\n",
       "      <td>-1.323613</td>\n",
       "      <td>-1.144008</td>\n",
       "    </tr>\n",
       "    <tr>\n",
       "      <th>3</th>\n",
       "      <td>3.0</td>\n",
       "      <td>1.012503</td>\n",
       "      <td>-1.157839</td>\n",
       "      <td>0.017878</td>\n",
       "      <td>-1.245599</td>\n",
       "      <td>-0.811618</td>\n",
       "      <td>0.394611</td>\n",
       "      <td>-0.743993</td>\n",
       "      <td>-0.498255</td>\n",
       "      <td>-1.718372</td>\n",
       "      <td>...</td>\n",
       "      <td>-1.189851</td>\n",
       "      <td>-1.139319</td>\n",
       "      <td>-1.085646</td>\n",
       "      <td>-0.989156</td>\n",
       "      <td>0.596685</td>\n",
       "      <td>-0.313342</td>\n",
       "      <td>0.002932</td>\n",
       "      <td>1.350617</td>\n",
       "      <td>-1.397139</td>\n",
       "      <td>-1.732999</td>\n",
       "    </tr>\n",
       "    <tr>\n",
       "      <th>4</th>\n",
       "      <td>4.0</td>\n",
       "      <td>1.159205</td>\n",
       "      <td>-0.683593</td>\n",
       "      <td>0.131954</td>\n",
       "      <td>-0.113797</td>\n",
       "      <td>-0.196827</td>\n",
       "      <td>1.104845</td>\n",
       "      <td>-1.016574</td>\n",
       "      <td>-1.015251</td>\n",
       "      <td>-1.168208</td>\n",
       "      <td>...</td>\n",
       "      <td>-0.780271</td>\n",
       "      <td>-0.084586</td>\n",
       "      <td>-0.947399</td>\n",
       "      <td>-0.861555</td>\n",
       "      <td>1.179396</td>\n",
       "      <td>-0.897836</td>\n",
       "      <td>-0.940490</td>\n",
       "      <td>0.575624</td>\n",
       "      <td>-0.588955</td>\n",
       "      <td>-0.392952</td>\n",
       "    </tr>\n",
       "    <tr>\n",
       "      <th>...</th>\n",
       "      <td>...</td>\n",
       "      <td>...</td>\n",
       "      <td>...</td>\n",
       "      <td>...</td>\n",
       "      <td>...</td>\n",
       "      <td>...</td>\n",
       "      <td>...</td>\n",
       "      <td>...</td>\n",
       "      <td>...</td>\n",
       "      <td>...</td>\n",
       "      <td>...</td>\n",
       "      <td>...</td>\n",
       "      <td>...</td>\n",
       "      <td>...</td>\n",
       "      <td>...</td>\n",
       "      <td>...</td>\n",
       "      <td>...</td>\n",
       "      <td>...</td>\n",
       "      <td>...</td>\n",
       "      <td>...</td>\n",
       "      <td>...</td>\n",
       "    </tr>\n",
       "    <tr>\n",
       "      <th>99996</th>\n",
       "      <td>99996.0</td>\n",
       "      <td>-1.505169</td>\n",
       "      <td>1.366675</td>\n",
       "      <td>0.151529</td>\n",
       "      <td>-0.008643</td>\n",
       "      <td>-0.710419</td>\n",
       "      <td>0.425387</td>\n",
       "      <td>-0.732011</td>\n",
       "      <td>-0.687370</td>\n",
       "      <td>0.187693</td>\n",
       "      <td>...</td>\n",
       "      <td>-1.228254</td>\n",
       "      <td>-1.057929</td>\n",
       "      <td>-1.054951</td>\n",
       "      <td>-1.017247</td>\n",
       "      <td>0.247329</td>\n",
       "      <td>-0.908846</td>\n",
       "      <td>-1.000938</td>\n",
       "      <td>0.345989</td>\n",
       "      <td>1.113496</td>\n",
       "      <td>1.024112</td>\n",
       "    </tr>\n",
       "    <tr>\n",
       "      <th>99997</th>\n",
       "      <td>99997.0</td>\n",
       "      <td>-1.337126</td>\n",
       "      <td>1.426750</td>\n",
       "      <td>0.041038</td>\n",
       "      <td>0.960395</td>\n",
       "      <td>-0.924083</td>\n",
       "      <td>0.076492</td>\n",
       "      <td>-0.643308</td>\n",
       "      <td>-0.790167</td>\n",
       "      <td>0.630465</td>\n",
       "      <td>...</td>\n",
       "      <td>-1.041010</td>\n",
       "      <td>-0.997951</td>\n",
       "      <td>-0.900151</td>\n",
       "      <td>-0.988213</td>\n",
       "      <td>0.076130</td>\n",
       "      <td>-0.365033</td>\n",
       "      <td>-0.432474</td>\n",
       "      <td>-0.603332</td>\n",
       "      <td>0.989041</td>\n",
       "      <td>1.164272</td>\n",
       "    </tr>\n",
       "    <tr>\n",
       "      <th>99998</th>\n",
       "      <td>99998.0</td>\n",
       "      <td>-1.221497</td>\n",
       "      <td>1.162527</td>\n",
       "      <td>-0.217557</td>\n",
       "      <td>1.120643</td>\n",
       "      <td>-1.206279</td>\n",
       "      <td>0.536156</td>\n",
       "      <td>-1.067988</td>\n",
       "      <td>-1.138776</td>\n",
       "      <td>0.721807</td>\n",
       "      <td>...</td>\n",
       "      <td>-0.893825</td>\n",
       "      <td>-0.147857</td>\n",
       "      <td>-0.978662</td>\n",
       "      <td>-0.994951</td>\n",
       "      <td>0.949354</td>\n",
       "      <td>-0.664224</td>\n",
       "      <td>-0.735144</td>\n",
       "      <td>-1.072185</td>\n",
       "      <td>0.655099</td>\n",
       "      <td>0.339179</td>\n",
       "    </tr>\n",
       "    <tr>\n",
       "      <th>99999</th>\n",
       "      <td>99999.0</td>\n",
       "      <td>-1.327862</td>\n",
       "      <td>1.156643</td>\n",
       "      <td>-0.144797</td>\n",
       "      <td>1.290958</td>\n",
       "      <td>-0.955083</td>\n",
       "      <td>0.598453</td>\n",
       "      <td>-1.083222</td>\n",
       "      <td>-1.255012</td>\n",
       "      <td>0.781393</td>\n",
       "      <td>...</td>\n",
       "      <td>-0.916594</td>\n",
       "      <td>-0.134641</td>\n",
       "      <td>-1.044842</td>\n",
       "      <td>-1.027422</td>\n",
       "      <td>0.674525</td>\n",
       "      <td>-1.018527</td>\n",
       "      <td>-1.174485</td>\n",
       "      <td>-1.384781</td>\n",
       "      <td>0.708827</td>\n",
       "      <td>0.675896</td>\n",
       "    </tr>\n",
       "    <tr>\n",
       "      <th>100000</th>\n",
       "      <td>100000.0</td>\n",
       "      <td>-1.408206</td>\n",
       "      <td>1.863968</td>\n",
       "      <td>0.126707</td>\n",
       "      <td>1.196890</td>\n",
       "      <td>-1.130280</td>\n",
       "      <td>-0.617897</td>\n",
       "      <td>-0.179676</td>\n",
       "      <td>-0.266712</td>\n",
       "      <td>0.929474</td>\n",
       "      <td>...</td>\n",
       "      <td>-1.134523</td>\n",
       "      <td>-1.792687</td>\n",
       "      <td>-0.672611</td>\n",
       "      <td>-0.740856</td>\n",
       "      <td>-0.542947</td>\n",
       "      <td>0.097150</td>\n",
       "      <td>0.112669</td>\n",
       "      <td>-0.637888</td>\n",
       "      <td>0.435957</td>\n",
       "      <td>0.515341</td>\n",
       "    </tr>\n",
       "  </tbody>\n",
       "</table>\n",
       "<p>100001 rows × 25 columns</p>\n",
       "</div>"
      ],
      "text/plain": [
       "            time       phi       psi     theta        d1        d2        d3  \\\n",
       "0            0.0  1.158887 -0.062493 -0.277660 -2.025618  0.516963  1.492472   \n",
       "1            1.0  1.111219 -0.603696 -0.070774 -0.512036 -0.285359  1.203746   \n",
       "2            2.0  0.728072 -1.035362  0.393789  0.087397 -0.529289  0.746910   \n",
       "3            3.0  1.012503 -1.157839  0.017878 -1.245599 -0.811618  0.394611   \n",
       "4            4.0  1.159205 -0.683593  0.131954 -0.113797 -0.196827  1.104845   \n",
       "...          ...       ...       ...       ...       ...       ...       ...   \n",
       "99996    99996.0 -1.505169  1.366675  0.151529 -0.008643 -0.710419  0.425387   \n",
       "99997    99997.0 -1.337126  1.426750  0.041038  0.960395 -0.924083  0.076492   \n",
       "99998    99998.0 -1.221497  1.162527 -0.217557  1.120643 -1.206279  0.536156   \n",
       "99999    99999.0 -1.327862  1.156643 -0.144797  1.290958 -0.955083  0.598453   \n",
       "100000  100000.0 -1.408206  1.863968  0.126707  1.196890 -1.130280 -0.617897   \n",
       "\n",
       "              d4        d5        d6  ...       d12       d13       d14  \\\n",
       "0      -0.950306 -0.774688 -2.048843  ... -0.963034 -0.890409 -0.893454   \n",
       "1      -1.029504 -0.872391 -0.965547  ... -0.751681  0.006084 -0.994078   \n",
       "2      -0.824329 -0.874417 -0.644842  ... -1.252801 -0.922105 -1.203875   \n",
       "3      -0.743993 -0.498255 -1.718372  ... -1.189851 -1.139319 -1.085646   \n",
       "4      -1.016574 -1.015251 -1.168208  ... -0.780271 -0.084586 -0.947399   \n",
       "...          ...       ...       ...  ...       ...       ...       ...   \n",
       "99996  -0.732011 -0.687370  0.187693  ... -1.228254 -1.057929 -1.054951   \n",
       "99997  -0.643308 -0.790167  0.630465  ... -1.041010 -0.997951 -0.900151   \n",
       "99998  -1.067988 -1.138776  0.721807  ... -0.893825 -0.147857 -0.978662   \n",
       "99999  -1.083222 -1.255012  0.781393  ... -0.916594 -0.134641 -1.044842   \n",
       "100000 -0.179676 -0.266712  0.929474  ... -1.134523 -1.792687 -0.672611   \n",
       "\n",
       "             d15       d16       d17       d18       d19       d20       d21  \n",
       "0      -0.832867  1.610624 -1.126497 -0.945604 -0.080917  0.514520  0.760415  \n",
       "1      -0.958668  1.422885 -0.889166 -0.587028  0.328934 -0.156932 -0.063246  \n",
       "2      -1.245052  1.238570 -0.421943 -0.276024  1.256286 -1.323613 -1.144008  \n",
       "3      -0.989156  0.596685 -0.313342  0.002932  1.350617 -1.397139 -1.732999  \n",
       "4      -0.861555  1.179396 -0.897836 -0.940490  0.575624 -0.588955 -0.392952  \n",
       "...          ...       ...       ...       ...       ...       ...       ...  \n",
       "99996  -1.017247  0.247329 -0.908846 -1.000938  0.345989  1.113496  1.024112  \n",
       "99997  -0.988213  0.076130 -0.365033 -0.432474 -0.603332  0.989041  1.164272  \n",
       "99998  -0.994951  0.949354 -0.664224 -0.735144 -1.072185  0.655099  0.339179  \n",
       "99999  -1.027422  0.674525 -1.018527 -1.174485 -1.384781  0.708827  0.675896  \n",
       "100000 -0.740856 -0.542947  0.097150  0.112669 -0.637888  0.435957  0.515341  \n",
       "\n",
       "[100001 rows x 25 columns]"
      ]
     },
     "execution_count": 3,
     "metadata": {},
     "output_type": "execute_result"
    }
   ],
   "source": [
    "data"
   ]
  },
  {
   "cell_type": "code",
   "execution_count": 4,
   "metadata": {},
   "outputs": [],
   "source": [
    "data = data.drop(columns='time')"
   ]
  },
  {
   "cell_type": "code",
   "execution_count": 5,
   "metadata": {},
   "outputs": [
    {
     "data": {
      "text/plain": [
       "100001"
      ]
     },
     "execution_count": 5,
     "metadata": {},
     "output_type": "execute_result"
    }
   ],
   "source": [
    "len(data)"
   ]
  },
  {
   "cell_type": "code",
   "execution_count": 6,
   "metadata": {},
   "outputs": [
    {
     "name": "stdout",
     "output_type": "stream",
     "text": [
      "Name: phi,\tmax = 3.14\tmin = -3.13\n",
      "Name: psi,\tmax = 3.14\tmin = -3.14\n",
      "Name: theta,\tmax = 0.93\tmin = -0.79\n",
      "Name: d1,\tmax = 2.99\tmin = -5.13\n",
      "Name: d2,\tmax = 3.18\tmin = -4.86\n",
      "Name: d3,\tmax = 2.08\tmin = -3.99\n",
      "Name: d4,\tmax = 1.79\tmin = -1.99\n",
      "Name: d5,\tmax = 1.90\tmin = -2.33\n",
      "Name: d6,\tmax = 1.99\tmin = -3.18\n",
      "Name: d7,\tmax = 2.45\tmin = -2.86\n",
      "Name: d8,\tmax = 2.75\tmin = -4.72\n",
      "Name: d9,\tmax = 1.73\tmin = -1.52\n",
      "Name: d10,\tmax = 1.82\tmin = -2.27\n",
      "Name: d11,\tmax = 1.79\tmin = -3.21\n",
      "Name: d12,\tmax = 2.21\tmin = -2.32\n",
      "Name: d13,\tmax = 3.30\tmin = -6.06\n",
      "Name: d14,\tmax = 1.89\tmin = -1.43\n",
      "Name: d15,\tmax = 1.85\tmin = -1.75\n",
      "Name: d16,\tmax = 2.01\tmin = -1.92\n",
      "Name: d17,\tmax = 1.83\tmin = -2.16\n",
      "Name: d18,\tmax = 2.20\tmin = -4.34\n",
      "Name: d19,\tmax = 2.99\tmin = -2.21\n",
      "Name: d20,\tmax = 1.84\tmin = -2.72\n",
      "Name: d21,\tmax = 2.08\tmin = -6.01\n"
     ]
    }
   ],
   "source": [
    "for col in data:\n",
    "    print('Name: {},\\tmax = {:.2f}\\tmin = {:.2f}'.format(col, data[col].max(), data[col].min()))"
   ]
  },
  {
   "cell_type": "code",
   "execution_count": 7,
   "metadata": {},
   "outputs": [
    {
     "data": {
      "text/html": [
       "<div>\n",
       "<style scoped>\n",
       "    .dataframe tbody tr th:only-of-type {\n",
       "        vertical-align: middle;\n",
       "    }\n",
       "\n",
       "    .dataframe tbody tr th {\n",
       "        vertical-align: top;\n",
       "    }\n",
       "\n",
       "    .dataframe thead th {\n",
       "        text-align: right;\n",
       "    }\n",
       "</style>\n",
       "<table border=\"1\" class=\"dataframe\">\n",
       "  <thead>\n",
       "    <tr style=\"text-align: right;\">\n",
       "      <th></th>\n",
       "      <th>phi</th>\n",
       "      <th>psi</th>\n",
       "      <th>theta</th>\n",
       "      <th>d1</th>\n",
       "      <th>d2</th>\n",
       "      <th>d3</th>\n",
       "      <th>d4</th>\n",
       "      <th>d5</th>\n",
       "      <th>d6</th>\n",
       "      <th>d7</th>\n",
       "      <th>...</th>\n",
       "      <th>d12</th>\n",
       "      <th>d13</th>\n",
       "      <th>d14</th>\n",
       "      <th>d15</th>\n",
       "      <th>d16</th>\n",
       "      <th>d17</th>\n",
       "      <th>d18</th>\n",
       "      <th>d19</th>\n",
       "      <th>d20</th>\n",
       "      <th>d21</th>\n",
       "    </tr>\n",
       "  </thead>\n",
       "  <tbody>\n",
       "    <tr>\n",
       "      <th>0</th>\n",
       "      <td>1.158887</td>\n",
       "      <td>-0.062493</td>\n",
       "      <td>-0.277660</td>\n",
       "      <td>-2.025618</td>\n",
       "      <td>0.516963</td>\n",
       "      <td>1.492472</td>\n",
       "      <td>-0.950306</td>\n",
       "      <td>-0.774688</td>\n",
       "      <td>-2.048843</td>\n",
       "      <td>-0.442294</td>\n",
       "      <td>...</td>\n",
       "      <td>-0.963034</td>\n",
       "      <td>-0.890409</td>\n",
       "      <td>-0.893454</td>\n",
       "      <td>-0.832867</td>\n",
       "      <td>1.610624</td>\n",
       "      <td>-1.126497</td>\n",
       "      <td>-0.945604</td>\n",
       "      <td>-0.080917</td>\n",
       "      <td>0.514520</td>\n",
       "      <td>0.760415</td>\n",
       "    </tr>\n",
       "    <tr>\n",
       "      <th>1</th>\n",
       "      <td>1.111219</td>\n",
       "      <td>-0.603696</td>\n",
       "      <td>-0.070774</td>\n",
       "      <td>-0.512036</td>\n",
       "      <td>-0.285359</td>\n",
       "      <td>1.203746</td>\n",
       "      <td>-1.029504</td>\n",
       "      <td>-0.872391</td>\n",
       "      <td>-0.965547</td>\n",
       "      <td>-0.370308</td>\n",
       "      <td>...</td>\n",
       "      <td>-0.751681</td>\n",
       "      <td>0.006084</td>\n",
       "      <td>-0.994078</td>\n",
       "      <td>-0.958668</td>\n",
       "      <td>1.422885</td>\n",
       "      <td>-0.889166</td>\n",
       "      <td>-0.587028</td>\n",
       "      <td>0.328934</td>\n",
       "      <td>-0.156932</td>\n",
       "      <td>-0.063246</td>\n",
       "    </tr>\n",
       "    <tr>\n",
       "      <th>2</th>\n",
       "      <td>0.728072</td>\n",
       "      <td>-1.035362</td>\n",
       "      <td>0.393789</td>\n",
       "      <td>0.087397</td>\n",
       "      <td>-0.529289</td>\n",
       "      <td>0.746910</td>\n",
       "      <td>-0.824329</td>\n",
       "      <td>-0.874417</td>\n",
       "      <td>-0.644842</td>\n",
       "      <td>-1.029328</td>\n",
       "      <td>...</td>\n",
       "      <td>-1.252801</td>\n",
       "      <td>-0.922105</td>\n",
       "      <td>-1.203875</td>\n",
       "      <td>-1.245052</td>\n",
       "      <td>1.238570</td>\n",
       "      <td>-0.421943</td>\n",
       "      <td>-0.276024</td>\n",
       "      <td>1.256286</td>\n",
       "      <td>-1.323613</td>\n",
       "      <td>-1.144008</td>\n",
       "    </tr>\n",
       "    <tr>\n",
       "      <th>3</th>\n",
       "      <td>1.012503</td>\n",
       "      <td>-1.157839</td>\n",
       "      <td>0.017878</td>\n",
       "      <td>-1.245599</td>\n",
       "      <td>-0.811618</td>\n",
       "      <td>0.394611</td>\n",
       "      <td>-0.743993</td>\n",
       "      <td>-0.498255</td>\n",
       "      <td>-1.718372</td>\n",
       "      <td>-1.183151</td>\n",
       "      <td>...</td>\n",
       "      <td>-1.189851</td>\n",
       "      <td>-1.139319</td>\n",
       "      <td>-1.085646</td>\n",
       "      <td>-0.989156</td>\n",
       "      <td>0.596685</td>\n",
       "      <td>-0.313342</td>\n",
       "      <td>0.002932</td>\n",
       "      <td>1.350617</td>\n",
       "      <td>-1.397139</td>\n",
       "      <td>-1.732999</td>\n",
       "    </tr>\n",
       "    <tr>\n",
       "      <th>4</th>\n",
       "      <td>1.159205</td>\n",
       "      <td>-0.683593</td>\n",
       "      <td>0.131954</td>\n",
       "      <td>-0.113797</td>\n",
       "      <td>-0.196827</td>\n",
       "      <td>1.104845</td>\n",
       "      <td>-1.016574</td>\n",
       "      <td>-1.015251</td>\n",
       "      <td>-1.168208</td>\n",
       "      <td>-0.671562</td>\n",
       "      <td>...</td>\n",
       "      <td>-0.780271</td>\n",
       "      <td>-0.084586</td>\n",
       "      <td>-0.947399</td>\n",
       "      <td>-0.861555</td>\n",
       "      <td>1.179396</td>\n",
       "      <td>-0.897836</td>\n",
       "      <td>-0.940490</td>\n",
       "      <td>0.575624</td>\n",
       "      <td>-0.588955</td>\n",
       "      <td>-0.392952</td>\n",
       "    </tr>\n",
       "  </tbody>\n",
       "</table>\n",
       "<p>5 rows × 24 columns</p>\n",
       "</div>"
      ],
      "text/plain": [
       "        phi       psi     theta        d1        d2        d3        d4  \\\n",
       "0  1.158887 -0.062493 -0.277660 -2.025618  0.516963  1.492472 -0.950306   \n",
       "1  1.111219 -0.603696 -0.070774 -0.512036 -0.285359  1.203746 -1.029504   \n",
       "2  0.728072 -1.035362  0.393789  0.087397 -0.529289  0.746910 -0.824329   \n",
       "3  1.012503 -1.157839  0.017878 -1.245599 -0.811618  0.394611 -0.743993   \n",
       "4  1.159205 -0.683593  0.131954 -0.113797 -0.196827  1.104845 -1.016574   \n",
       "\n",
       "         d5        d6        d7  ...       d12       d13       d14       d15  \\\n",
       "0 -0.774688 -2.048843 -0.442294  ... -0.963034 -0.890409 -0.893454 -0.832867   \n",
       "1 -0.872391 -0.965547 -0.370308  ... -0.751681  0.006084 -0.994078 -0.958668   \n",
       "2 -0.874417 -0.644842 -1.029328  ... -1.252801 -0.922105 -1.203875 -1.245052   \n",
       "3 -0.498255 -1.718372 -1.183151  ... -1.189851 -1.139319 -1.085646 -0.989156   \n",
       "4 -1.015251 -1.168208 -0.671562  ... -0.780271 -0.084586 -0.947399 -0.861555   \n",
       "\n",
       "        d16       d17       d18       d19       d20       d21  \n",
       "0  1.610624 -1.126497 -0.945604 -0.080917  0.514520  0.760415  \n",
       "1  1.422885 -0.889166 -0.587028  0.328934 -0.156932 -0.063246  \n",
       "2  1.238570 -0.421943 -0.276024  1.256286 -1.323613 -1.144008  \n",
       "3  0.596685 -0.313342  0.002932  1.350617 -1.397139 -1.732999  \n",
       "4  1.179396 -0.897836 -0.940490  0.575624 -0.588955 -0.392952  \n",
       "\n",
       "[5 rows x 24 columns]"
      ]
     },
     "execution_count": 7,
     "metadata": {},
     "output_type": "execute_result"
    }
   ],
   "source": [
    "data.head()"
   ]
  },
  {
   "cell_type": "code",
   "execution_count": 8,
   "metadata": {},
   "outputs": [],
   "source": [
    "data_np = data.values"
   ]
  },
  {
   "cell_type": "code",
   "execution_count": 9,
   "metadata": {},
   "outputs": [
    {
     "data": {
      "text/plain": [
       "(100001, 24)"
      ]
     },
     "execution_count": 9,
     "metadata": {},
     "output_type": "execute_result"
    }
   ],
   "source": [
    "data_np.shape"
   ]
  },
  {
   "cell_type": "code",
   "execution_count": 10,
   "metadata": {},
   "outputs": [
    {
     "data": {
      "text/plain": [
       "(3.2956220000000003, -6.0561300000000005)"
      ]
     },
     "execution_count": 10,
     "metadata": {},
     "output_type": "execute_result"
    }
   ],
   "source": [
    "data_np.max(), data_np.min()"
   ]
  },
  {
   "cell_type": "code",
   "execution_count": null,
   "metadata": {},
   "outputs": [],
   "source": [
    "norm = np.linalg.norm(data_np)\n",
    "norm"
   ]
  },
  {
   "cell_type": "code",
   "execution_count": null,
   "metadata": {},
   "outputs": [],
   "source": [
    "norm_arr = data_np/norm"
   ]
  },
  {
   "cell_type": "code",
   "execution_count": null,
   "metadata": {},
   "outputs": [],
   "source": [
    "norm_arr.max(), norm_arr.min()"
   ]
  },
  {
   "cell_type": "code",
   "execution_count": 11,
   "metadata": {},
   "outputs": [],
   "source": [
    "from sklearn.preprocessing import StandardScaler\n",
    "sc = StandardScaler()\n",
    "sc.fit(data_np)\n",
    "data_np = sc.transform(data_np)"
   ]
  },
  {
   "cell_type": "code",
   "execution_count": 12,
   "metadata": {},
   "outputs": [
    {
     "data": {
      "text/plain": [
       "(6.170563387459025, -6.056129998944085)"
      ]
     },
     "execution_count": 12,
     "metadata": {},
     "output_type": "execute_result"
    }
   ],
   "source": [
    "data_np.max(), data_np.min()"
   ]
  },
  {
   "cell_type": "markdown",
   "metadata": {},
   "source": [
    "# IDX -> input; IDX + LAG -> target"
   ]
  },
  {
   "cell_type": "code",
   "execution_count": 13,
   "metadata": {},
   "outputs": [],
   "source": [
    "x = data_np[:-1, :]"
   ]
  },
  {
   "cell_type": "code",
   "execution_count": 14,
   "metadata": {},
   "outputs": [],
   "source": [
    "y = data_np[1:, :]"
   ]
  },
  {
   "cell_type": "code",
   "execution_count": 15,
   "metadata": {},
   "outputs": [],
   "source": [
    "tensor_data = TensorDataset(torch.from_numpy(np.float32(x)), torch.from_numpy(np.float32(y)))"
   ]
  },
  {
   "cell_type": "code",
   "execution_count": 16,
   "metadata": {},
   "outputs": [
    {
     "data": {
      "text/plain": [
       "(tensor([[ 3.6518, -1.4151, -1.6173,  ..., -0.0809,  0.5145,  0.7604],\n",
       "         [ 3.5913, -1.8809, -0.4423,  ...,  0.3289, -0.1569, -0.0632],\n",
       "         [ 3.1045, -2.2525,  2.1959,  ...,  1.2563, -1.3236, -1.1440],\n",
       "         ...,\n",
       "         [ 0.4809, -0.1333,  0.1926,  ..., -0.6033,  0.9890,  1.1643],\n",
       "         [ 0.6278, -0.3607, -1.2759,  ..., -1.0722,  0.6551,  0.3392],\n",
       "         [ 0.4926, -0.3657, -0.8627,  ..., -1.3848,  0.7088,  0.6759]]),\n",
       " tensor([[ 3.5913, -1.8809, -0.4423,  ...,  0.3289, -0.1569, -0.0632],\n",
       "         [ 3.1045, -2.2525,  2.1959,  ...,  1.2563, -1.3236, -1.1440],\n",
       "         [ 3.4658, -2.3579,  0.0611,  ...,  1.3506, -1.3971, -1.7330],\n",
       "         ...,\n",
       "         [ 0.6278, -0.3607, -1.2759,  ..., -1.0722,  0.6551,  0.3392],\n",
       "         [ 0.4926, -0.3657, -0.8627,  ..., -1.3848,  0.7088,  0.6759],\n",
       "         [ 0.3906,  0.2431,  0.6792,  ..., -0.6379,  0.4360,  0.5153]]))"
      ]
     },
     "execution_count": 16,
     "metadata": {},
     "output_type": "execute_result"
    }
   ],
   "source": [
    "tensor_data[:,:]"
   ]
  },
  {
   "cell_type": "code",
   "execution_count": 74,
   "metadata": {},
   "outputs": [],
   "source": [
    "class AE(torch.nn.Module):\n",
    "    def __init__(self, input_shape):\n",
    "        super(AE, self).__init__()\n",
    "        self.fc1 = nn.Linear(input_shape, 16)\n",
    "        self.fc2 = nn.Linear(16, 8)\n",
    "        self.fc3 = nn.Linear(8, 3)\n",
    "        self.fc4 = nn.Linear(3, 8)\n",
    "        self.fc5 = nn.Linear(8, 16)\n",
    "        self.fc6 = nn.Linear(16, input_shape)\n",
    "        \n",
    "    def encoder(self, x):\n",
    "        h1 = F.leaky_relu(self.fc1(x))\n",
    "        h1 = F.leaky_relu(self.fc2(h1))\n",
    "        return self.fc3(h1)\n",
    "    \n",
    "    def decoder(self, z):\n",
    "        h2 = F.leaky_relu(self.fc4(z))\n",
    "        h2 = F.leaky_relu(self.fc5(h2))\n",
    "        return F.leaky_relu(self.fc6(h2))\n",
    "    \n",
    "    def forward(self, x):\n",
    "        x = self.encoder(x)\n",
    "        return self.decoder(x)"
   ]
  },
  {
   "cell_type": "code",
   "execution_count": 95,
   "metadata": {},
   "outputs": [],
   "source": [
    "ae = AE(input_shape=24)"
   ]
  },
  {
   "cell_type": "code",
   "execution_count": 96,
   "metadata": {},
   "outputs": [
    {
     "data": {
      "text/plain": [
       "AE(\n",
       "  (fc1): Linear(in_features=24, out_features=16, bias=True)\n",
       "  (fc2): Linear(in_features=16, out_features=8, bias=True)\n",
       "  (fc3): Linear(in_features=8, out_features=3, bias=True)\n",
       "  (fc4): Linear(in_features=3, out_features=8, bias=True)\n",
       "  (fc5): Linear(in_features=8, out_features=16, bias=True)\n",
       "  (fc6): Linear(in_features=16, out_features=24, bias=True)\n",
       ")"
      ]
     },
     "execution_count": 96,
     "metadata": {},
     "output_type": "execute_result"
    }
   ],
   "source": [
    "ae"
   ]
  },
  {
   "cell_type": "code",
   "execution_count": 97,
   "metadata": {},
   "outputs": [],
   "source": [
    "train_size = int(0.8 * len(tensor_data))\n",
    "val_size = len(tensor_data) - train_size\n",
    "\n",
    "train_d, val_d = random_split(tensor_data, (train_size, val_size))\n",
    "\n",
    "train_data_loader = DataLoader(train_d, batch_size = 128, shuffle=True)\n",
    "val_data_loader = DataLoader(val_d, batch_size = 128)"
   ]
  },
  {
   "cell_type": "code",
   "execution_count": 98,
   "metadata": {},
   "outputs": [
    {
     "name": "stderr",
     "output_type": "stream",
     "text": [
      "/Users/test/anaconda3/lib/python3.7/site-packages/torch/nn/_reduction.py:43: UserWarning: size_average and reduce args will be deprecated, please use reduction='sum' instead.\n",
      "  warnings.warn(warning.format(ret))\n"
     ]
    }
   ],
   "source": [
    "optimizer = torch.optim.Adam(ae.parameters(), lr=0.001)\n",
    "loss_fn = torch.nn.MSELoss(size_average=False)"
   ]
  },
  {
   "cell_type": "code",
   "execution_count": 99,
   "metadata": {},
   "outputs": [],
   "source": [
    "def train(model, train_loader, val_loader, optimizer, loss_fn, epochs):\n",
    "    loss_list = []\n",
    "    acc_list = []\n",
    "    for epoch in range(epochs):\n",
    "        loss = 0.0\n",
    "        valid_loss = 0.0\n",
    "        for inputs, targets in train_loader:\n",
    "            #reser gradients\n",
    "            optimizer.zero_grad()\n",
    "            #compute reconstructions\n",
    "            outputs = model(inputs)\n",
    "            #compute a training reconstruction loss\n",
    "            train_loss = loss_fn(outputs, targets)\n",
    "            #compute accumulated gradients\n",
    "            train_loss.backward()\n",
    "            #update parameters based on current gradients\n",
    "            optimizer.step()\n",
    "            #add the batch training loss to epoch loss\n",
    "            loss += train_loss.item()\n",
    "        #compute the epoch training loss\n",
    "        loss = loss/len(train_loader.dataset)\n",
    "        loss_list.append(loss)\n",
    "        \n",
    "        model.eval()\n",
    "        for inputs, targets in val_loader:\n",
    "            #compute reconstruction\n",
    "            outputs = model(inputs)\n",
    "            #compute validation loss\n",
    "            valid_loss += loss_fn(outputs, targets)\n",
    "        valid_loss /= len(val_loader.dataset)\n",
    "        \n",
    "        acc_list.append(valid_loss)\n",
    "        #print info\n",
    "        print('Epoch {} of {}, training loss = {:.3f}, validation loss = {:.3f}'.format(epoch+1, epochs, loss, valid_loss))\n",
    "    return loss_list, acc_list"
   ]
  },
  {
   "cell_type": "code",
   "execution_count": 100,
   "metadata": {},
   "outputs": [
    {
     "name": "stdout",
     "output_type": "stream",
     "text": [
      "Epoch 1 of 100, training loss = 19.714, validation loss = 18.086\n",
      "Epoch 2 of 100, training loss = 15.971, validation loss = 14.472\n",
      "Epoch 3 of 100, training loss = 14.643, validation loss = 14.139\n",
      "Epoch 4 of 100, training loss = 14.430, validation loss = 13.987\n",
      "Epoch 5 of 100, training loss = 14.287, validation loss = 13.871\n",
      "Epoch 6 of 100, training loss = 14.112, validation loss = 13.659\n",
      "Epoch 7 of 100, training loss = 13.898, validation loss = 13.479\n",
      "Epoch 8 of 100, training loss = 13.786, validation loss = 13.415\n",
      "Epoch 9 of 100, training loss = 13.713, validation loss = 13.361\n",
      "Epoch 10 of 100, training loss = 13.671, validation loss = 13.373\n",
      "Epoch 11 of 100, training loss = 13.634, validation loss = 13.279\n",
      "Epoch 12 of 100, training loss = 13.610, validation loss = 13.238\n",
      "Epoch 13 of 100, training loss = 13.573, validation loss = 13.224\n",
      "Epoch 14 of 100, training loss = 13.562, validation loss = 13.215\n",
      "Epoch 15 of 100, training loss = 13.545, validation loss = 13.227\n",
      "Epoch 16 of 100, training loss = 13.532, validation loss = 13.182\n",
      "Epoch 17 of 100, training loss = 13.510, validation loss = 13.163\n",
      "Epoch 18 of 100, training loss = 13.491, validation loss = 13.201\n",
      "Epoch 19 of 100, training loss = 13.472, validation loss = 13.163\n",
      "Epoch 20 of 100, training loss = 13.449, validation loss = 13.109\n",
      "Epoch 21 of 100, training loss = 13.430, validation loss = 13.154\n",
      "Epoch 22 of 100, training loss = 13.392, validation loss = 13.052\n",
      "Epoch 23 of 100, training loss = 13.379, validation loss = 13.129\n",
      "Epoch 24 of 100, training loss = 13.365, validation loss = 13.082\n",
      "Epoch 25 of 100, training loss = 13.363, validation loss = 13.025\n",
      "Epoch 26 of 100, training loss = 13.342, validation loss = 13.054\n",
      "Epoch 27 of 100, training loss = 13.341, validation loss = 13.011\n",
      "Epoch 28 of 100, training loss = 13.335, validation loss = 12.993\n",
      "Epoch 29 of 100, training loss = 13.329, validation loss = 12.992\n",
      "Epoch 30 of 100, training loss = 13.320, validation loss = 13.005\n",
      "Epoch 31 of 100, training loss = 13.323, validation loss = 13.022\n",
      "Epoch 32 of 100, training loss = 13.309, validation loss = 12.968\n",
      "Epoch 33 of 100, training loss = 13.308, validation loss = 13.054\n",
      "Epoch 34 of 100, training loss = 13.307, validation loss = 12.992\n",
      "Epoch 35 of 100, training loss = 13.298, validation loss = 12.980\n",
      "Epoch 36 of 100, training loss = 13.302, validation loss = 12.995\n",
      "Epoch 37 of 100, training loss = 13.294, validation loss = 13.013\n",
      "Epoch 38 of 100, training loss = 13.291, validation loss = 12.978\n",
      "Epoch 39 of 100, training loss = 13.285, validation loss = 12.971\n",
      "Epoch 40 of 100, training loss = 13.279, validation loss = 12.982\n",
      "Epoch 41 of 100, training loss = 13.284, validation loss = 12.945\n",
      "Epoch 42 of 100, training loss = 13.278, validation loss = 12.979\n",
      "Epoch 43 of 100, training loss = 13.270, validation loss = 12.970\n",
      "Epoch 44 of 100, training loss = 13.262, validation loss = 12.951\n",
      "Epoch 45 of 100, training loss = 13.254, validation loss = 12.933\n",
      "Epoch 46 of 100, training loss = 13.251, validation loss = 12.957\n",
      "Epoch 47 of 100, training loss = 13.250, validation loss = 12.945\n",
      "Epoch 48 of 100, training loss = 13.241, validation loss = 12.911\n",
      "Epoch 49 of 100, training loss = 13.238, validation loss = 12.929\n",
      "Epoch 50 of 100, training loss = 13.237, validation loss = 12.908\n",
      "Epoch 51 of 100, training loss = 13.224, validation loss = 12.898\n",
      "Epoch 52 of 100, training loss = 13.221, validation loss = 12.889\n",
      "Epoch 53 of 100, training loss = 13.217, validation loss = 12.889\n",
      "Epoch 54 of 100, training loss = 13.210, validation loss = 12.899\n",
      "Epoch 55 of 100, training loss = 13.202, validation loss = 12.886\n",
      "Epoch 56 of 100, training loss = 13.206, validation loss = 12.880\n",
      "Epoch 57 of 100, training loss = 13.201, validation loss = 12.869\n",
      "Epoch 58 of 100, training loss = 13.196, validation loss = 12.880\n",
      "Epoch 59 of 100, training loss = 13.193, validation loss = 12.875\n",
      "Epoch 60 of 100, training loss = 13.190, validation loss = 12.876\n",
      "Epoch 61 of 100, training loss = 13.188, validation loss = 12.862\n",
      "Epoch 62 of 100, training loss = 13.180, validation loss = 12.868\n",
      "Epoch 63 of 100, training loss = 13.182, validation loss = 12.866\n",
      "Epoch 64 of 100, training loss = 13.177, validation loss = 12.899\n",
      "Epoch 65 of 100, training loss = 13.170, validation loss = 12.866\n",
      "Epoch 66 of 100, training loss = 13.166, validation loss = 12.819\n",
      "Epoch 67 of 100, training loss = 13.159, validation loss = 12.829\n",
      "Epoch 68 of 100, training loss = 13.152, validation loss = 12.825\n",
      "Epoch 69 of 100, training loss = 13.151, validation loss = 12.816\n",
      "Epoch 70 of 100, training loss = 13.147, validation loss = 12.818\n",
      "Epoch 71 of 100, training loss = 13.127, validation loss = 12.831\n",
      "Epoch 72 of 100, training loss = 13.134, validation loss = 12.861\n",
      "Epoch 73 of 100, training loss = 13.134, validation loss = 12.840\n",
      "Epoch 74 of 100, training loss = 13.127, validation loss = 12.832\n",
      "Epoch 75 of 100, training loss = 13.125, validation loss = 12.800\n",
      "Epoch 76 of 100, training loss = 13.116, validation loss = 12.811\n",
      "Epoch 77 of 100, training loss = 13.116, validation loss = 12.787\n",
      "Epoch 78 of 100, training loss = 13.112, validation loss = 12.771\n",
      "Epoch 79 of 100, training loss = 13.111, validation loss = 12.775\n",
      "Epoch 80 of 100, training loss = 13.107, validation loss = 12.794\n",
      "Epoch 81 of 100, training loss = 13.101, validation loss = 12.795\n",
      "Epoch 82 of 100, training loss = 13.100, validation loss = 12.817\n",
      "Epoch 83 of 100, training loss = 13.095, validation loss = 12.774\n",
      "Epoch 84 of 100, training loss = 13.093, validation loss = 12.831\n",
      "Epoch 85 of 100, training loss = 13.091, validation loss = 12.792\n",
      "Epoch 86 of 100, training loss = 13.090, validation loss = 12.757\n",
      "Epoch 87 of 100, training loss = 13.081, validation loss = 12.763\n",
      "Epoch 88 of 100, training loss = 13.081, validation loss = 12.766\n",
      "Epoch 89 of 100, training loss = 13.078, validation loss = 12.796\n",
      "Epoch 90 of 100, training loss = 13.076, validation loss = 12.747\n",
      "Epoch 91 of 100, training loss = 13.075, validation loss = 12.736\n",
      "Epoch 92 of 100, training loss = 13.075, validation loss = 12.737\n",
      "Epoch 93 of 100, training loss = 13.075, validation loss = 12.799\n",
      "Epoch 94 of 100, training loss = 13.068, validation loss = 12.756\n",
      "Epoch 95 of 100, training loss = 13.064, validation loss = 12.745\n",
      "Epoch 96 of 100, training loss = 13.061, validation loss = 12.813\n",
      "Epoch 97 of 100, training loss = 13.066, validation loss = 12.751\n",
      "Epoch 98 of 100, training loss = 13.064, validation loss = 12.731\n",
      "Epoch 99 of 100, training loss = 13.061, validation loss = 12.753\n",
      "Epoch 100 of 100, training loss = 13.054, validation loss = 12.816\n"
     ]
    }
   ],
   "source": [
    "training_loss, val_loss = train(ae, train_data_loader, val_data_loader, optimizer, loss_fn, 100)"
   ]
  },
  {
   "cell_type": "code",
   "execution_count": null,
   "metadata": {},
   "outputs": [],
   "source": [
    "for inp, tar in train_data_loader:\n",
    "    err = 0.0\n",
    "    for i in range(len(inp)):\n",
    "        #print(inp[i])\n",
    "        out = ae(inp[i].unsqueeze(0))\n",
    "        #print(out)\n",
    "        l = loss_fn(out.flatten(), inp[i])\n",
    "        err += l\n",
    "        break\n",
    "    break"
   ]
  },
  {
   "cell_type": "code",
   "execution_count": null,
   "metadata": {},
   "outputs": [],
   "source": [
    "err"
   ]
  },
  {
   "cell_type": "code",
   "execution_count": 101,
   "metadata": {},
   "outputs": [
    {
     "data": {
      "image/png": "[encoded data removed]",
      "text/plain": [
       "<Figure size 432x288 with 1 Axes>"
      ]
     },
     "metadata": {
      "needs_background": "light"
     },
     "output_type": "display_data"
    }
   ],
   "source": [
    "plt.plot(range(len(training_loss)), training_loss, label = 'Training')\n",
    "plt.plot(range(len(val_loss)), val_loss, label = 'Validation')\n",
    "plt.legend()\n",
    "plt.show()"
   ]
  },
  {
   "cell_type": "code",
   "execution_count": 104,
   "metadata": {},
   "outputs": [],
   "source": [
    "out = ae.encoder(tensor_data[:,:][0])\n",
    "out = out.detach().numpy()"
   ]
  },
  {
   "cell_type": "code",
   "execution_count": 112,
   "metadata": {},
   "outputs": [
    {
     "data": {
      "image/png": "[encoded data removed]",
      "text/plain": [
       "<Figure size 720x720 with 2 Axes>"
      ]
     },
     "metadata": {
      "needs_background": "light"
     },
     "output_type": "display_data"
    }
   ],
   "source": [
    "fig = plt.figure(figsize=(10, 10))\n",
    "plt.scatter(out[:,2], out[:,1], c=out[:,0])\n",
    "plt.colorbar()\n",
    "fig.savefig('reduced.png', dpi=200)"
   ]
  }
 ],
 "metadata": {
  "kernelspec": {
   "display_name": "Python 3",
   "language": "python",
   "name": "python3"
  },
  "language_info": {
   "codemirror_mode": {
    "name": "ipython",
    "version": 3
   },
   "file_extension": ".py",
   "mimetype": "text/x-python",
   "name": "python",
   "nbconvert_exporter": "python",
   "pygments_lexer": "ipython3",
   "version": "3.7.7"
  }
 },
 "nbformat": 4,
 "nbformat_minor": 4
}
